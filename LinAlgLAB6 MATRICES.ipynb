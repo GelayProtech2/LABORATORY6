{
 "cells": [
  {
   "cell_type": "markdown",
   "metadata": {},
   "source": [
    "# Linear Algebra for CpE¶\n"
   ]
  },
  {
   "cell_type": "markdown",
   "metadata": {},
   "source": [
    "# Laboratory 6 : Matrices\n",
    "\n",
    "Now that you have a fundamental knowledge about vector representations, we'll try to look into greater dimensions."
   ]
  },
  {
   "cell_type": "markdown",
   "metadata": {},
   "source": [
    "# Objectives\n",
    "At the end of this activity you will be able to:\n",
    "\n",
    "1. Be familiar with matrices and their relation to linear equations.\n",
    "\n",
    "2. Perform basic matrix operations.\n",
    "\n",
    "3. Program and translate matrix equations and operations using Python."
   ]
  },
  {
   "cell_type": "markdown",
   "metadata": {},
   "source": [
    "# Discussion"
   ]
  },
  {
   "cell_type": "code",
   "execution_count": 1,
   "metadata": {},
   "outputs": [],
   "source": [
    "import numpy as np\n",
    "import matplotlib.pyplot as plt\n",
    "import scipy.linalg as la\n",
    "%matplotlib inline"
   ]
  },
  {
   "cell_type": "markdown",
   "metadata": {},
   "source": [
    "# Matrices"
   ]
  },
  {
   "cell_type": "markdown",
   "metadata": {},
   "source": [
    "The notation and use of matrices is probably one of the fundamentals of modern computing. Matrices are also handy representations of complex equations or multiple inter-related equations from 2-dimensional equations to even hundreds and thousands of them.\n",
    "\n",
    "Let's say for example you have $A$ and $B$ as system of equation.\n",
    "\n",
    "$$ A = \\left\\{ \\begin{array}\\\\ x + y \\\\ 4x - 10y \\end{array} \\right. \\\\ B = \\left\\{ \\begin{array}\\\\ x+y+z \\\\ 3x -2y -z \\\\ -x + 4y +2z \\end{array} \\right. $$\n",
    "We could see that $A$ is a system of 2 equations with 2 parameters. While $B$ is a system of 3 equations with 3 parameters. We can represent them as matrices as:\n",
    "\n",
    "$$ A=\\begin{bmatrix} 1 & 1 \\\\ 4 & {-10}\\end{bmatrix} \\\\ B=\\begin{bmatrix} 1 & 1 & 1 \\\\ 3 & -2 & -1 \\\\ -1 & 4 & 2\\end{bmatrix} $$\n",
    "So assuming that you already discussed the fundamental representation of matrices, their types, and operations. We'll proceed in doing them in here in Python."
   ]
  },
  {
   "cell_type": "markdown",
   "metadata": {},
   "source": [
    "# Declaring Matrices\n",
    "Just like our previous laboratory activity, we'll represent system of linear equations as a matrix. The entities or numbers in matrices are called the elements of a matrix. These elements are arranged and ordered in rows and columns which form the list/array-like structure of matrices. And just like arrays, these elements are indexed according to their position with respect to their rows and columns. This can be reprsented just like the equation below. Whereas $A$ is a matrix consisting of elements denoted by $a_{i,j}$. Denoted by $i$ is the number of rows in the matrix while $j$ stands for the number of columns.\n",
    "Do note that the $size$ of a matrix is $i\\times j$."
   ]
  },
  {
   "cell_type": "markdown",
   "metadata": {},
   "source": [
    "$$A=\\begin{bmatrix}\n",
    "a_{(0,0)}&amp;a_{(0,1)}&amp;\\dots&amp;a_{(0,j-1)}\\\\\n",
    "a_{(1,0)}&amp;a_{(1,1)}&amp;\\dots&amp;a_{(1,j-1)}\\\\\n",
    "\\vdots&amp;\\vdots&amp;\\ddots&amp;\\vdots&amp;\\\\\n",
    "a_{(i-1,0)}&amp;a_{(i-1,1)}&amp;\\dots&amp;a_{(i-1,j-1)}\n",
    "\\end{bmatrix}\n",
    "$$"
   ]
  },
  {
   "cell_type": "markdown",
   "metadata": {},
   "source": [
    "We already gone over some of the types of matrices as vectors but we'll further discuss them in this laboratory activity. Since you already know how to describe vectors using shape, dimensions and size attributes, we'll use them to analyze these matrices."
   ]
  },
  {
   "cell_type": "code",
   "execution_count": null,
   "metadata": {},
   "outputs": [],
   "source": [
    "## Since we'll keep on describing matrices. Let's make a function.\n",
    "def describe_mat(matrix):\n",
    "    print(f'Matrix:\\n{matrix}\\n\\nShape:\\t{matrix.shape}\\nRank:\\t{matrix.ndim}\\n')"
   ]
  },
  {
   "cell_type": "code",
   "execution_count": null,
   "metadata": {},
   "outputs": [],
   "source": [
    "## Declaring a 2 x 2 matrix\n",
    "A = np.array([\n",
    "    [1, 2],\n",
    "    [3, 1]\n",
    "])\n",
    "describe_mat(A)"
   ]
  },
  {
   "cell_type": "code",
   "execution_count": null,
   "metadata": {},
   "outputs": [],
   "source": [
    "G = np.array([\n",
    "    [1,1],\n",
    "    [2,2]\n",
    "])\n",
    "describe_mat(G)"
   ]
  },
  {
   "cell_type": "code",
   "execution_count": null,
   "metadata": {},
   "outputs": [],
   "source": [
    "## Declaring a 3 x 2 matrix\n",
    "B = np.array([\n",
    "    [8, 2],\n",
    "    [5, 4],\n",
    "    [1, 1]\n",
    "])\n",
    "describe_mat(B)"
   ]
  },
  {
   "cell_type": "code",
   "execution_count": null,
   "metadata": {},
   "outputs": [],
   "source": [
    "H = np.array([1,2,3,4,5])\n",
    "describe_mat(H)"
   ]
  },
  {
   "cell_type": "markdown",
   "metadata": {},
   "source": [
    "# Categorizing Matrices"
   ]
  },
  {
   "cell_type": "markdown",
   "metadata": {},
   "source": [
    "There are several ways of classifying matrices. Once could be according to their shape and another is according to their element values. We'll try to go through them."
   ]
  },
  {
   "cell_type": "markdown",
   "metadata": {},
   "source": [
    "# According to shape"
   ]
  },
  {
   "cell_type": "markdown",
   "metadata": {},
   "source": [
    "# Row and Column Matrices\n",
    "Row and column matrices are common in vector and matrix computations. They can also represent row and column spaces of a bigger vector space. Row and column matrices are represented by a single column or single row. So with that being, the shape of row matrices would be $1 \\times j$ and column matrices would be $i \\times 1$."
   ]
  },
  {
   "cell_type": "code",
   "execution_count": null,
   "metadata": {},
   "outputs": [],
   "source": [
    "## Declaring a Row Matrix\n",
    "\n",
    "row_mat_1D = np.array([\n",
    "    1, 3, 2\n",
    "]) ## this is a 1-D Matrix with a shape of (3,), it's not really considered as a row matrix.\n",
    "row_mat_2D = np.array([\n",
    "    [1,2,3]\n",
    "]) ## this is a 2-D Matrix with a shape of (1,3)\n",
    "describe_mat(row_mat_1D)\n",
    "describe_mat(row_mat_2D)"
   ]
  },
  {
   "cell_type": "code",
   "execution_count": null,
   "metadata": {},
   "outputs": [],
   "source": [
    "## Declaring a Column Matrix\n",
    "\n",
    "col_mat = np.array([\n",
    "    [1],\n",
    "    [2],\n",
    "    [5]\n",
    "]) ## this is a 2-D Matrix with a shape of (3,1)\n",
    "describe_mat(col_mat)"
   ]
  },
  {
   "cell_type": "markdown",
   "metadata": {},
   "source": [
    "# Square Matrices\n",
    "Square matrices are matrices that have the same row and column sizes. We could say a matrix is square if $i = j$. We can tweak our matrix descriptor function to determine square matrices."
   ]
  },
  {
   "cell_type": "code",
   "execution_count": null,
   "metadata": {},
   "outputs": [],
   "source": [
    "def describe_mat(matrix):\n",
    "    is_square = True if matrix.shape[0] == matrix.shape[1] else False \n",
    "    print(f'Matrix:\\n{matrix}\\n\\nShape:\\t{matrix.shape}\\nRank:\\t{matrix.ndim}\\nIs Square: {is_square}\\n')"
   ]
  },
  {
   "cell_type": "code",
   "execution_count": null,
   "metadata": {},
   "outputs": [],
   "source": [
    "square_mat = np.array([\n",
    "    [1,2,5],\n",
    "    [3,3,8],\n",
    "    [6,1,2]\n",
    "])\n",
    "\n",
    "non_square_mat = np.array([\n",
    "    [1,2,5],\n",
    "    [3,3,8]\n",
    "])\n",
    "describe_mat(square_mat)\n",
    "describe_mat(non_square_mat)"
   ]
  },
  {
   "cell_type": "markdown",
   "metadata": {},
   "source": [
    "# According to element values"
   ]
  },
  {
   "cell_type": "markdown",
   "metadata": {},
   "source": [
    "# Null Matrix\n",
    "A Null Matrix is a matrix that has no elements. It is always a subspace of any vector or matrix."
   ]
  },
  {
   "cell_type": "code",
   "execution_count": null,
   "metadata": {},
   "outputs": [],
   "source": [
    "def describe_mat(matrix):\n",
    "    if matrix.size > 0:\n",
    "        is_square = True if matrix.shape[0] == matrix.shape[1] else False \n",
    "        print(f'Matrix:\\n{matrix}\\n\\nShape:\\t{matrix.shape}\\nRank:\\t{matrix.ndim}\\nIs Square: {is_square}\\n')\n",
    "    else:\n",
    "        print('Matrix is Null')"
   ]
  },
  {
   "cell_type": "code",
   "execution_count": null,
   "metadata": {},
   "outputs": [],
   "source": [
    "null_mat = np.array([])\n",
    "describe_mat(null_mat)"
   ]
  },
  {
   "cell_type": "markdown",
   "metadata": {},
   "source": [
    "# Zero Matrix\n",
    "A zero matrix can be any rectangular matrix but with all elements having a value of 0."
   ]
  },
  {
   "cell_type": "code",
   "execution_count": 6,
   "metadata": {},
   "outputs": [
    {
     "name": "stdout",
     "output_type": "stream",
     "text": [
      "Zero Row Matrix: \n",
      "[[0. 0.]]\n",
      "Zero Square Matrix: \n",
      "[[0. 0.]\n",
      " [0. 0.]]\n",
      "Zero Rectangular Matrix: \n",
      "[[0. 0.]\n",
      " [0. 0.]\n",
      " [0. 0.]]\n"
     ]
    }
   ],
   "source": [
    "zero_mat_row = np.zeros((1,2))\n",
    "zero_mat_sqr = np.zeros((2,2))\n",
    "zero_mat_rct = np.zeros((3,2))\n",
    "\n",
    "print(f'Zero Row Matrix: \\n{zero_mat_row}')\n",
    "print(f'Zero Square Matrix: \\n{zero_mat_sqr}')\n",
    "print(f'Zero Rectangular Matrix: \\n{zero_mat_rct}')"
   ]
  },
  {
   "cell_type": "markdown",
   "metadata": {},
   "source": [
    "# Ones Matrix\n",
    "A ones matrix, just like the zero matrix, can be any rectangular matrix but all of its elements are 1s instead of 0s."
   ]
  },
  {
   "cell_type": "code",
   "execution_count": null,
   "metadata": {},
   "outputs": [],
   "source": [
    "ones_mat_row = np.ones((1,2))\n",
    "ones_mat_sqr = np.ones((2,2))\n",
    "ones_mat_rct = np.ones((3,2))\n",
    "\n",
    "print(f'Ones Row Matrix: \\n{ones_mat_row}')\n",
    "print(f'Ones Square Matrix: \\n{ones_mat_sqr}')\n",
    "print(f'Ones Rectangular Matrix: \\n{ones_mat_rct}')"
   ]
  },
  {
   "cell_type": "markdown",
   "metadata": {},
   "source": [
    "# Diagonal Matrix\n",
    "A diagonal matrix is a square matrix that has values only at the diagonal of the matrix."
   ]
  },
  {
   "cell_type": "code",
   "execution_count": null,
   "metadata": {},
   "outputs": [],
   "source": [
    "np.array([\n",
    "    [2,0,0],\n",
    "    [0,3,0],\n",
    "    [0,0,5]\n",
    "])\n",
    "# a[1,1], a[2,2], a[3,3], ... a[n-1,n-1]"
   ]
  },
  {
   "cell_type": "code",
   "execution_count": null,
   "metadata": {},
   "outputs": [],
   "source": [
    "d = np.diag([2,3,5,7])\n",
    "np.diag(d).shape == d.shape[0] == d.shape[1]"
   ]
  },
  {
   "cell_type": "markdown",
   "metadata": {},
   "source": [
    "# Identity Matrix\n",
    "An identity matrix is a special diagonal matrix in which the values at the diagonal are ones."
   ]
  },
  {
   "cell_type": "code",
   "execution_count": 9,
   "metadata": {},
   "outputs": [
    {
     "data": {
      "text/plain": [
       "array([[1., 0., 0., 0., 0.],\n",
       "       [0., 1., 0., 0., 0.],\n",
       "       [0., 0., 1., 0., 0.],\n",
       "       [0., 0., 0., 1., 0.],\n",
       "       [0., 0., 0., 0., 1.]])"
      ]
     },
     "execution_count": 9,
     "metadata": {},
     "output_type": "execute_result"
    }
   ],
   "source": [
    "np.eye(5)"
   ]
  },
  {
   "cell_type": "code",
   "execution_count": 10,
   "metadata": {},
   "outputs": [
    {
     "data": {
      "text/plain": [
       "array([[1., 0., 0., 0., 0.],\n",
       "       [0., 1., 0., 0., 0.],\n",
       "       [0., 0., 1., 0., 0.],\n",
       "       [0., 0., 0., 1., 0.],\n",
       "       [0., 0., 0., 0., 1.]])"
      ]
     },
     "execution_count": 10,
     "metadata": {},
     "output_type": "execute_result"
    }
   ],
   "source": [
    "np.identity(5)"
   ]
  },
  {
   "cell_type": "markdown",
   "metadata": {},
   "source": [
    "# Upper Triangular Matrix\n",
    "An upper triangular matrix is a matrix that has no values below the diagonal."
   ]
  },
  {
   "cell_type": "code",
   "execution_count": null,
   "metadata": {},
   "outputs": [],
   "source": [
    "np.array([\n",
    "    [1,2,3],\n",
    "    [0,3,1],\n",
    "    [0,0,5]\n",
    "])"
   ]
  },
  {
   "cell_type": "markdown",
   "metadata": {},
   "source": [
    "# Lower Triangular Matrix\n",
    "A lower triangular matrix is a matrix that has no values above the diagonal."
   ]
  },
  {
   "cell_type": "code",
   "execution_count": null,
   "metadata": {},
   "outputs": [],
   "source": [
    "np.array([\n",
    "    [1,0,0],\n",
    "    [5,3,0],\n",
    "    [7,8,5]\n",
    "])"
   ]
  },
  {
   "cell_type": "markdown",
   "metadata": {},
   "source": [
    "# Practice"
   ]
  },
  {
   "cell_type": "markdown",
   "metadata": {},
   "source": [
    "Given the linear combination below, try to create a corresponding matrix representing it.\n",
    "$$\\theta = 5x + 3y - z$$"
   ]
  },
  {
   "cell_type": "code",
   "execution_count": null,
   "metadata": {},
   "outputs": [],
   "source": [
    "theta = np.array([\n",
    "              [5,3,-1],\n",
    "])\n",
    "describe_mat(theta)"
   ]
  },
  {
   "cell_type": "markdown",
   "metadata": {},
   "source": [
    "1. Given the system of linear combinations below, try to encode it as a matrix. Also describe the matrix.\n",
    "$$ A = \\left\\{\\begin{array} 5x_1 + 2x_2 +x_3\\\\ 4x_2 - x_3\\\\ 10x_3 \\end{array}\\right. $$"
   ]
  },
  {
   "cell_type": "code",
   "execution_count": null,
   "metadata": {},
   "outputs": [],
   "source": [
    "number2_mat = np.array([\n",
    "             [1,2,1],\n",
    "             [0,4,-1],\n",
    "             [0,0,10]\n",
    "])\n",
    "describe_mat(number2_mat)"
   ]
  },
  {
   "cell_type": "markdown",
   "metadata": {},
   "source": [
    "2. Given the matrix below, express it as a linear combination in a markdown."
   ]
  },
  {
   "cell_type": "code",
   "execution_count": null,
   "metadata": {},
   "outputs": [],
   "source": [
    "G = np.array([\n",
    "    [1,7,8],\n",
    "    [2,2,2],\n",
    "    [4,6,7]\n",
    "])"
   ]
  },
  {
   "cell_type": "markdown",
   "metadata": {},
   "source": [
    "$$G=\\left\\{\\begin{array} 1g_1+7g_2+8g_3 \\\\2g_1+2g_2+2g_3\\\\4g_1+6g_2+7g_3 \\end{array}\\right.$$"
   ]
  },
  {
   "cell_type": "markdown",
   "metadata": {},
   "source": [
    "3.Given the matrix below, display the output as a LaTeX makdown also express it as a system of linear combinations."
   ]
  },
  {
   "cell_type": "code",
   "execution_count": null,
   "metadata": {},
   "outputs": [],
   "source": [
    "H = np.tril(G)\n",
    "H"
   ]
  },
  {
   "cell_type": "markdown",
   "metadata": {},
   "source": [
    "$$ H = \\left\\{\\begin{array} 1x_1\\\\ 2x_1+ 2y_2\\\\ 4x_1+ 6y_2 +7z_3 \\end{array}\\right. $$\n"
   ]
  },
  {
   "cell_type": "markdown",
   "metadata": {},
   "source": [
    "# Matrix Algebra"
   ]
  },
  {
   "cell_type": "markdown",
   "metadata": {},
   "source": [
    "# Addition"
   ]
  },
  {
   "cell_type": "code",
   "execution_count": null,
   "metadata": {},
   "outputs": [],
   "source": [
    "A = np.array([\n",
    "    [1,2],\n",
    "    [2,3],\n",
    "    [4,1]\n",
    "])\n",
    "B = np.array([\n",
    "    [2,2],\n",
    "    [0,0],\n",
    "    [1,1]\n",
    "])\n",
    "A+B"
   ]
  },
  {
   "cell_type": "code",
   "execution_count": null,
   "metadata": {},
   "outputs": [],
   "source": [
    "2+A ##Broadcasting\n",
    "# 2*np.ones(A.shape)+A"
   ]
  },
  {
   "cell_type": "markdown",
   "metadata": {},
   "source": [
    "# Subtraction"
   ]
  },
  {
   "cell_type": "code",
   "execution_count": null,
   "metadata": {},
   "outputs": [],
   "source": [
    "A-B"
   ]
  },
  {
   "cell_type": "code",
   "execution_count": null,
   "metadata": {},
   "outputs": [],
   "source": [
    "3-B == 3*np.ones(B.shape)-B"
   ]
  },
  {
   "cell_type": "markdown",
   "metadata": {},
   "source": [
    "# Element-wise Multiplication"
   ]
  },
  {
   "cell_type": "code",
   "execution_count": null,
   "metadata": {},
   "outputs": [],
   "source": [
    "A*B\n",
    "np.multiply(A,B)"
   ]
  },
  {
   "cell_type": "code",
   "execution_count": null,
   "metadata": {},
   "outputs": [],
   "source": [
    "2*A"
   ]
  },
  {
   "cell_type": "code",
   "execution_count": null,
   "metadata": {},
   "outputs": [],
   "source": [
    "alpha=10**-10\n",
    "A/(alpha+B)"
   ]
  },
  {
   "cell_type": "code",
   "execution_count": null,
   "metadata": {},
   "outputs": [],
   "source": [
    "np.add(A,B)"
   ]
  },
  {
   "cell_type": "markdown",
   "metadata": {},
   "source": [
    "# Activity"
   ]
  },
  {
   "cell_type": "markdown",
   "metadata": {},
   "source": [
    "# Task 1\n",
    "Create a function named mat_desc() that througouhly describes a matrix, it should:\n",
    "\n",
    "1. Displays the shape, size, and rank of the matrix.\n",
    "\n",
    "2. Displays whether the matrix is square or non-square.\n",
    "\n",
    "3. Displays whether the matrix is an empty matrix.\n",
    "\n",
    "4. Displays if the matrix is an identity, ones, or zeros matrix\n",
    "\n",
    "Use 5 sample matrices in which their shapes are not lower than $(3,3)$. In your methodology, create a flowchart discuss the functions and methods you have done. Present your results in the results section showing the description of each matrix you have declared."
   ]
  },
  {
   "cell_type": "code",
   "execution_count": 4,
   "metadata": {},
   "outputs": [],
   "source": [
    "def mat_desc(matrix):\n",
    "    \n",
    "    print(f'{matrix}\\n\\n'\n",
    "      \n",
    "          \n",
    "            # prints the shape, size, and rank of the matrix\n",
    "          \n",
    "        f'The shape of the matrix is: {matrix.shape}\\n'\n",
    "        f'The size of the matrix is: {np.product(matrix.shape)}\\n'\n",
    "        f'The rank of the matrix is: {matrix.ndim}')\n",
    "    \n",
    "    # matrix.size determines the total number of elements in an array \n",
    "    if matrix.size > 0:\n",
    "       \n",
    "        is_ones = True if np.all((matrix == 1)) else False  #checks if all the elements in the array is 1\n",
    "       \n",
    "        is_zero = True if np.all((matrix == 0)) else False  #checks if all the elements in the array is 0\n",
    "       \n",
    "        is_square = True if matrix.shape[0] == matrix.shape[1] else False  #checks if row is equal to column size\n",
    "        \n",
    "        \n",
    "        \n",
    "        # checks if the matrix is a square matrix and an identity matrix \n",
    "        \n",
    "        \n",
    "        is_identity = True if matrix.shape[0] == matrix.shape[1] and np.allclose(matrix, np.eye(matrix.shape[0])) else False\n",
    "        \n",
    "        \n",
    "        \n",
    "        \n",
    "        # prints if the matrix is a square, identity, ones,or zero\n",
    "        \n",
    "        \n",
    "        print(f'Is the matrix a ones matrix?: {is_ones}\\n'\n",
    "        f'Is the matrix a zero matrix?: {is_zero}\\n'\n",
    "        f'Is the matrix a square?: {is_square}\\n'\n",
    "        f'Is the matrix an identity matrix?: {is_identity}\\n\\n'\n",
    "        )\n",
    "    else:\n",
    "        print(\"The Matrix is Null\")"
   ]
  },
  {
   "cell_type": "code",
   "execution_count": 5,
   "metadata": {},
   "outputs": [
    {
     "name": "stdout",
     "output_type": "stream",
     "text": [
      " First Matrix :\n",
      "[[0 0 0 0 0 0]\n",
      " [0 0 0 0 0 0]\n",
      " [0 0 0 0 0 0]\n",
      " [0 0 0 0 0 0]\n",
      " [0 0 0 0 0 0]\n",
      " [0 0 0 0 0 0]]\n",
      "\n",
      "The shape of the matrix is: (6, 6)\n",
      "The size of the matrix is: 36\n",
      "The rank of the matrix is: 2\n",
      "Is the matrix a ones matrix?: False\n",
      "Is the matrix a zero matrix?: True\n",
      "Is the matrix a square?: True\n",
      "Is the matrix an identity matrix?: False\n",
      "\n",
      "\n",
      " Second Matrix :\n",
      "[[1 1 1 1 1]\n",
      " [1 1 1 1 1]\n",
      " [1 1 1 1 1]\n",
      " [1 1 1 1 1]\n",
      " [1 1 1 1 1]]\n",
      "\n",
      "The shape of the matrix is: (5, 5)\n",
      "The size of the matrix is: 25\n",
      "The rank of the matrix is: 2\n",
      "Is the matrix a ones matrix?: True\n",
      "Is the matrix a zero matrix?: False\n",
      "Is the matrix a square?: True\n",
      "Is the matrix an identity matrix?: False\n",
      "\n",
      "\n",
      "Third Matrix :\n",
      "[[15  6  9]\n",
      " [ 7 15  8]\n",
      " [11 12 15]]\n",
      "\n",
      "The shape of the matrix is: (3, 3)\n",
      "The size of the matrix is: 9\n",
      "The rank of the matrix is: 2\n",
      "Is the matrix a ones matrix?: False\n",
      "Is the matrix a zero matrix?: False\n",
      "Is the matrix a square?: True\n",
      "Is the matrix an identity matrix?: False\n",
      "\n",
      "\n",
      "Fourth Matrix :\n",
      "[[ 20  21  31  41]\n",
      " [ 50  51  61  71]\n",
      " [ 80  81  91 100]]\n",
      "\n",
      "The shape of the matrix is: (3, 4)\n",
      "The size of the matrix is: 12\n",
      "The rank of the matrix is: 2\n",
      "Is the matrix a ones matrix?: False\n",
      "Is the matrix a zero matrix?: False\n",
      "Is the matrix a square?: False\n",
      "Is the matrix an identity matrix?: False\n",
      "\n",
      "\n",
      "Fifth Matrix :\n",
      "[[1000000    4444  999999]\n",
      " [2000000     555      66]\n",
      " [3000000    8888      77]]\n",
      "\n",
      "The shape of the matrix is: (3, 3)\n",
      "The size of the matrix is: 9\n",
      "The rank of the matrix is: 2\n",
      "Is the matrix a ones matrix?: False\n",
      "Is the matrix a zero matrix?: False\n",
      "Is the matrix a square?: True\n",
      "Is the matrix an identity matrix?: False\n",
      "\n",
      "\n"
     ]
    }
   ],
   "source": [
    "mat_1 = np.array([\n",
    "    [0, 0, 0, 0, 0, 0],\n",
    "    [0, 0, 0, 0, 0, 0],\n",
    "    [0, 0, 0, 0, 0, 0],\n",
    "    [0, 0, 0, 0, 0, 0],\n",
    "    [0, 0, 0, 0, 0, 0],\n",
    "    [0, 0, 0, 0, 0, 0]\n",
    "])\n",
    "mat_2 = np.array([\n",
    "    [1, 1, 1, 1, 1],\n",
    "    [1, 1, 1, 1, 1],\n",
    "    [1, 1, 1, 1, 1],\n",
    "    [1, 1, 1, 1, 1],\n",
    "    [1, 1, 1, 1, 1]\n",
    "])\n",
    "mat_3 = np.array([\n",
    "    [15, 6, 9],\n",
    "    [7, 15, 8],\n",
    "    [11, 12, 15]\n",
    "])\n",
    "mat_4 = np.array([\n",
    "    [20, 21, 31, 41],\n",
    "    [50, 51, 61, 71],\n",
    "    [80, 81, 91, 100]\n",
    "])\n",
    "mat_5 = np.array([\n",
    "    [1000000,4444,999999],\n",
    "    [2000000,555,66],\n",
    "    [3000000,8888,77],\n",
    "])\n",
    "\n",
    "print(\" First Matrix :\")\n",
    "mat_desc(mat_1)\n",
    "print(\" Second Matrix :\")\n",
    "mat_desc(mat_2)\n",
    "print(\"Third Matrix :\")\n",
    "mat_desc(mat_3)\n",
    "print(\"Fourth Matrix :\")\n",
    "mat_desc(mat_4)\n",
    "print(\"Fifth Matrix :\")\n",
    "mat_desc(mat_5)"
   ]
  },
  {
   "cell_type": "markdown",
   "metadata": {},
   "source": [
    "# Task 2\n",
    "Create a function named mat_operations() that takes in two matrices or scalars a input parameters it should:\n",
    "\n",
    "1. Display the description of each matrix, if the parameter is a scalar it tells that it is a scalar rather than describing it as a matrix.\n",
    "\n",
    "2. Determines if the matrices are viable for operation and returns your own error message if they are not viable.\n",
    "\n",
    "3. Returns the sum of the matrices.\n",
    "\n",
    "4. Returns the difference of the matrices.\n",
    "\n",
    "5. Returns the element-wise multiplication of the matrices.\n",
    "\n",
    "6. Returns the element-wise division of the matrices.\n",
    "\n",
    "Use 5 sample matrices in which their shapes are not lower than $(3,3)$. In your methodology, create a flowchart discuss the functions and methods you have done. Present your results in the results section showing the description of each matrix you have declared."
   ]
  },
  {
   "cell_type": "code",
   "execution_count": 6,
   "metadata": {},
   "outputs": [],
   "source": [
    "def mat_operations(mat1,mat2):\n",
    "    alpha = 10**-10\n",
    "    \n",
    "    if np.isscalar(mat1):\n",
    "        print(\"The first parameter is a scalar\")\n",
    "    else:\n",
    "        print(f'1st matrix:\\n {mat1}\\n\\n'\n",
    "        f'The shape of the 1st matrix is: {mat1.shape}\\n'\n",
    "        f'The size of the 1st matrix is: {np.product(mat1.shape)}\\n'\n",
    "        f'The rank of the 1st matrix is: {mat1.ndim}')\n",
    "        if mat1.size > 0:\n",
    "            \n",
    "            \n",
    "            \n",
    "            is_ones = True if np.all((mat1 == 1)) else False #checks if all the elements in the array is 1\n",
    "          \n",
    "            is_zero = True if np.all((mat1 == 0)) else False   #checks if all the elements in the array is 0\n",
    "           \n",
    "            is_square = True if mat1.shape[0] == mat1.shape[1] else False  # checks if row is equal to column size\n",
    "            \n",
    "            \n",
    "            \n",
    "            \n",
    "            # checks if the matrix is a square matrix and an identity matrix using np.allclose\n",
    "            is_identity = True if mat1.shape[0] == mat1.shape[1] and np.allclose(mat1, np.eye(mat1.shape[0])) else False\n",
    "            \n",
    "            \n",
    "            \n",
    "            # prints if the matrix is a square, identity, ones, and/or zero\n",
    "            \n",
    "            print(f'Is the matrix a ones matrix?: {is_ones}\\n'\n",
    "            f'Is the matrix a zero matrix?: {is_zero}\\n'\n",
    "            f'Is the matrix a square?: {is_square}\\n'\n",
    "            f'Is the matrix an identity matrix?: {is_identity}\\n\\n'\n",
    "            )\n",
    "        else:\n",
    "            print(\"The Matrix is Null or Empty\")\n",
    "            \n",
    "    if np.isscalar(mat2):\n",
    "        print(\"The second parameter is a scalar\\n\")\n",
    "    else:\n",
    "        print(f'2nd matrix:\\n {mat2}\\n\\n'\n",
    "        f'The shape of the 2nd matrix is: {mat2.shape}\\n'\n",
    "        f'The size of the 2nd matrix is: {np.product(mat2.shape)}\\n'\n",
    "        f'The rank of the 2nd matrix is: {mat2.ndim}')\n",
    "        if mat2.size > 0:\n",
    "            \n",
    "            \n",
    "            \n",
    "            is_ones = True if np.all((mat2 == 1)) else False #checks if all the elements in the array is 1\n",
    "          \n",
    "            is_zero = True if np.all((mat2 == 0)) else False   #checks if all the elements in the array is 0\n",
    "          \n",
    "            is_square = True if mat2.shape[0] == mat2.shape[1] else False   # checks if row is equal to column size\n",
    "            \n",
    "            \n",
    "            # checks if the matrix is a square matrix and an identity matrix using np.allclose\n",
    "        \n",
    "            is_identity = True if mat2.shape[0] == mat2.shape[1] and np.allclose(mat2, np.eye(mat2.shape[0])) else False\n",
    "            \n",
    "            \n",
    "            # prints if the matrix is a square, identity, ones, and/or zero\n",
    "            \n",
    "            print(f'Is the matrix a ones matrix?: {is_ones}\\n'\n",
    "            f'Is the matrix a zero matrix?: {is_zero}\\n'\n",
    "            f'Is the matrix a square?: {is_square}\\n'\n",
    "            f'Is the matrix an identity matrix?: {is_identity}\\n\\n')\n",
    "        else:\n",
    "            print(\"The Matrix is Null or Empty\")\n",
    "            \n",
    "    if np.isscalar(mat1) == False and np.isscalar(mat2) == False:\n",
    "        if (mat1.shape == mat2.shape):\n",
    "            print(f'The sum of the matrices is: \\n{np.sum(np.add(mat1,mat2))}\\n'\n",
    "                f'\\nThe difference of the matrices is: \\n{np.diff(np.subtract(mat1,mat2))}\\n'\n",
    "                f'\\nThe element-wise multiplication of the matrices is: \\n{np.multiply(mat1,mat2)}\\n'\n",
    "                f'\\nThe element-wise division of the matrices is: \\n{np.divide(mat1,mat2+alpha)}\\n')\n",
    "        else:\n",
    "            print(\"The matrices aren't viable for operation\\n\")\n",
    "    else:\n",
    "        print(\"The parameters aren't viable for matrix operation\\n\")"
   ]
  },
  {
   "cell_type": "code",
   "execution_count": 17,
   "metadata": {},
   "outputs": [
    {
     "name": "stdout",
     "output_type": "stream",
     "text": [
      "First Pair of Matrices:\n",
      "\n",
      "1st matrix:\n",
      " [[1 0 0 0 0 0]\n",
      " [0 1 0 0 0 0]\n",
      " [0 0 1 0 0 0]\n",
      " [0 0 0 1 0 0]\n",
      " [0 0 0 0 1 0]\n",
      " [0 0 0 0 0 1]]\n",
      "\n",
      "The shape of the 1st matrix is: (6, 6)\n",
      "The size of the 1st matrix is: 36\n",
      "The rank of the 1st matrix is: 2\n",
      "Is the matrix a ones matrix?: False\n",
      "Is the matrix a zero matrix?: False\n",
      "Is the matrix a square?: True\n",
      "Is the matrix an identity matrix?: True\n",
      "\n",
      "\n",
      "2nd matrix:\n",
      " [[ 33  44  55  77]\n",
      " [333 444 555 777]\n",
      " [ 66  22  11  99]\n",
      " [666 222 111 999]\n",
      " [ 88 100  22  10]]\n",
      "\n",
      "The shape of the 2nd matrix is: (5, 4)\n",
      "The size of the 2nd matrix is: 20\n",
      "The rank of the 2nd matrix is: 2\n",
      "Is the matrix a ones matrix?: False\n",
      "Is the matrix a zero matrix?: False\n",
      "Is the matrix a square?: False\n",
      "Is the matrix an identity matrix?: False\n",
      "\n",
      "\n",
      "The matrices aren't viable for operation\n",
      "\n",
      "\n",
      "Second Pair of Matrices:\n",
      "\n",
      "1st matrix:\n",
      " [[ 51  11  21   1   2   3]\n",
      " [101  51  41   4   5   6]\n",
      " [ 31  71  81   7   8   9]]\n",
      "\n",
      "The shape of the 1st matrix is: (3, 6)\n",
      "The size of the 1st matrix is: 18\n",
      "The rank of the 1st matrix is: 2\n",
      "Is the matrix a ones matrix?: False\n",
      "Is the matrix a zero matrix?: False\n",
      "Is the matrix a square?: False\n",
      "Is the matrix an identity matrix?: False\n",
      "\n",
      "\n",
      "2nd matrix:\n",
      " [[31 11 21  7  8  9]\n",
      " [11 61 41  4  5  6]\n",
      " [31 21 81  1  2  3]]\n",
      "\n",
      "The shape of the 2nd matrix is: (3, 6)\n",
      "The size of the 2nd matrix is: 18\n",
      "The rank of the 2nd matrix is: 2\n",
      "Is the matrix a ones matrix?: False\n",
      "Is the matrix a zero matrix?: False\n",
      "Is the matrix a square?: False\n",
      "Is the matrix an identity matrix?: False\n",
      "\n",
      "\n",
      "The sum of the matrices is: \n",
      "858\n",
      "\n",
      "The difference of the matrices is: \n",
      "[[ -20    0   -6    0    0]\n",
      " [-100   10    0    0    0]\n",
      " [  50  -50    6    0    0]]\n",
      "\n",
      "The element-wise multiplication of the matrices is: \n",
      "[[1581  121  441    7   16   27]\n",
      " [1111 3111 1681   16   25   36]\n",
      " [ 961 1491 6561    7   16   27]]\n",
      "\n",
      "The element-wise division of the matrices is: \n",
      "[[1.64516129 1.         1.         0.14285714 0.25       0.33333333]\n",
      " [9.18181818 0.83606557 1.         1.         1.         1.        ]\n",
      " [1.         3.38095238 1.         7.         4.         3.        ]]\n",
      "\n",
      "\n",
      "Third Pair of Matrices:\n",
      "\n",
      "1st matrix:\n",
      " [[1 0 0 0 0 0]\n",
      " [0 1 0 0 0 0]\n",
      " [0 0 1 0 0 0]\n",
      " [0 0 0 1 0 0]\n",
      " [0 0 0 0 1 0]\n",
      " [0 0 0 0 0 1]]\n",
      "\n",
      "The shape of the 1st matrix is: (6, 6)\n",
      "The size of the 1st matrix is: 36\n",
      "The rank of the 1st matrix is: 2\n",
      "Is the matrix a ones matrix?: False\n",
      "Is the matrix a zero matrix?: False\n",
      "Is the matrix a square?: True\n",
      "Is the matrix an identity matrix?: True\n",
      "\n",
      "\n",
      "2nd matrix:\n",
      " [[ 20  30  40  50]\n",
      " [ 60  70  80  90]\n",
      " [ 10 100 110 120]]\n",
      "\n",
      "The shape of the 2nd matrix is: (3, 4)\n",
      "The size of the 2nd matrix is: 12\n",
      "The rank of the 2nd matrix is: 2\n",
      "Is the matrix a ones matrix?: False\n",
      "Is the matrix a zero matrix?: False\n",
      "Is the matrix a square?: False\n",
      "Is the matrix an identity matrix?: False\n",
      "\n",
      "\n",
      "The matrices aren't viable for operation\n",
      "\n"
     ]
    }
   ],
   "source": [
    "mat_1 = np.array ([\n",
    "    [1, 0, 0, 0, 0, 0],\n",
    "    [0, 1, 0, 0, 0, 0],\n",
    "    [0, 0, 1, 0, 0, 0],\n",
    "    [0, 0, 0, 1, 0, 0],\n",
    "    [0, 0, 0, 0, 1, 0],\n",
    "    [0, 0, 0, 0, 0, 1]\n",
    "])\n",
    "mat_2 = np.array([\n",
    "    [33, 44, 55,77],\n",
    "    [333, 444, 555,777],\n",
    "    [66, 22, 11,99],\n",
    "    [666, 222, 111,999],\n",
    "    [88, 100, 22,10]\n",
    "])\n",
    "\n",
    "mat_3 = np.array([\n",
    "    [51, 11, 21, 1, 2, 3],\n",
    "    [101, 51, 41, 4, 5, 6],\n",
    "    [31, 71, 81, 7, 8, 9]\n",
    "])\n",
    "\n",
    "mat_4 =  np.array([\n",
    "    [31, 11, 21, 7, 8, 9],\n",
    "    [11, 61, 41, 4, 5, 6],\n",
    "    [31, 21, 81, 1, 2, 3]\n",
    "])\n",
    "mat_5 = np.array([\n",
    "    [20, 30, 40, 50],\n",
    "    [60, 70, 80, 90],\n",
    "    [10, 100, 110, 120]\n",
    "])\n",
    "\n",
    "print(\"First Pair of Matrices:\\n\")\n",
    "mat_operations(mat_1,mat_2)\n",
    "print(\"\\nSecond Pair of Matrices:\\n\")\n",
    "mat_operations(mat_3,mat_4)\n",
    "print(\"\\nThird Pair of Matrices:\\n\")\n",
    "mat_operations(mat_1,mat_5)"
   ]
  },
  {
   "cell_type": "markdown",
   "metadata": {},
   "source": [
    "# Conclusion\n",
    "For your conclusion synthesize the concept and application of the laboratory. Briefly discuss what you have learned and achieved in this activity. Also answer the question: \"how can matrix operations solve problems in agriculture?\"."
   ]
  }
 ],
 "metadata": {
  "kernelspec": {
   "display_name": "Python 3",
   "language": "python",
   "name": "python3"
  },
  "language_info": {
   "codemirror_mode": {
    "name": "ipython",
    "version": 3
   },
   "file_extension": ".py",
   "mimetype": "text/x-python",
   "name": "python",
   "nbconvert_exporter": "python",
   "pygments_lexer": "ipython3",
   "version": "3.8.3"
  }
 },
 "nbformat": 4,
 "nbformat_minor": 4
}
